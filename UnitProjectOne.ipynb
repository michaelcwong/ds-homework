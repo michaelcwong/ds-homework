{
 "cells": [
  {
   "cell_type": "markdown",
   "metadata": {},
   "source": [
    "# BACKGROUND:\n",
    "#A Purchasing Card (P Card) is a type of credit card that allows organizations to take advantage of the existing credit card infrastructure to make electronic payments for a variety of business expenses such as goods and services below a certain threshold (i.e. $20,000.00). A P-Card is a charge card, similar to a consumer credit card. The transactional cost of using a traditional procure-to-pay (P2P) process—often involves submitting a requisition, purchase order, invoice and check payment.  Regardless of the amount of the purchase, buyers have to submit the same documentation for a $50.00 purchase versus a $5,000.00 one.  Most organizations recognize that a large number of check payments are made for low-value items to a large number of suppliers—a costly, inefficient process when you evaluate the amount of time staff takes to process each transaction. When the payment method is switched from the traditional P2P process to a P-Card process, efficiency savings range from 55% to 80% of the traditional process cost. Overall, P-Cards provide a means for streamlining the procure-to-pay process, allowing organizations to procure goods and services in a timely manner, reduce transaction costs, track expenses, take advantage of supplier discounts, reduce or redirect staff in the purchasing and/or accounts payable departments, reduce or eliminate petty cash, and more.\n"
   ]
  },
  {
   "attachments": {},
   "cell_type": "markdown",
   "metadata": {},
   "source": [
    "# PROBLEM STATEMENT:\n",
    "Usage of the Purchasing Card (P-Card) for the City of New York is concentrated among the top 20 agencies in spend and the City wants to expand the P-Card Program’s usage among other agencies.  Many of the accounts for the smaller agencies (in terms of spend) have become inactive or suspended for lack of use.  There are 100 City agencies that have a P-Card Account.  Of these, 25% of them are in ‘Suspended’ status since they have not been used for over 90 days. By reviewing the data of the suspended accounts, could you predict which currently active accounts have a possibility of becoming inactive or suspended in the next 30 days?  \n"
   ]
  },
  {
   "cell_type": "markdown",
   "metadata": {},
   "source": [
    "# 1. What is the outcome?\n",
    "Answer: predict which agencies will become inactive/suspended indicator (yes/no)"
   ]
  },
  {
   "cell_type": "markdown",
   "metadata": {},
   "source": [
    "# 2. What are the predictors/covariates?\n",
    "Answer: agency size, number of cardholders, average amount spent per month, last usage date"
   ]
  },
  {
   "cell_type": "markdown",
   "metadata": {},
   "source": [
    "# 3. What timeframe is this data relevant for?\n",
    "Answer: Fiscal Year 15-17 will be used to predict Fiscal Year 18 spend pattern\n",
    "Note: Fiscal Year starting month is July"
   ]
  },
  {
   "cell_type": "markdown",
   "metadata": {},
   "source": [
    "# 4. What is the hypothesis:\n",
    "Answer: Agency size, average amount spent per month and last usage date information will allow us to predict which agency accounts will become inactive or suspended in the next 30 days"
   ]
  },
  {
   "attachments": {},
   "cell_type": "markdown",
   "metadata": {},
   "source": [
    "# Data Dictionary\n",
    "VARIABLE\t                    DESCRIPTION\t                    TYPE OF VARIABLE\n",
    "User Agreement Signed Date\t    Date/Time user received card\tCategorical\n",
    "Card Activation Date\t        Date/Time user activated card\tCategorical\n",
    "Card Expiration Date\t        Date/Time card expires\t        Categorical\n",
    "Days since Usage Start Date  \tInteger \t                    Categorical\n",
    "Days since Last Usage \t        Integer\t                        Categorical\n",
    "Avg amt spent per month\t        Integer\t                        Categorical\n",
    "Avg Amt Spent per Transaction\tInteger\t                        Categorical\n",
    "Agency size\t                    Integer\t                        Categorical\n",
    "Number of Cardholders \t        Integer\t                        Categorical\n"
   ]
  },
  {
   "attachments": {},
   "cell_type": "markdown",
   "metadata": {},
   "source": [
    "# Analysis methods\n",
    "1.\tSum/Average – Summary of the spend and usage by agency for the observation period\n",
    "2.\tPercent Change – Computing the percent change with respect to the usages in the immediate     observation period to the next minus 1 observation period\n",
    "3.\tOdds ratio – what are the odds of each agency becoming inactive/suspended\n",
    "4.\tStandardization – Usage summaries has to be standardized based upon the number of             cardholders for each account\n",
    "5.\tScaling – implementation of regression, repeatability, and time series \n"
   ]
  }
 ],
 "metadata": {
  "kernelspec": {
   "display_name": "Python 2",
   "language": "python",
   "name": "python2"
  },
  "language_info": {
   "codemirror_mode": {
    "name": "ipython",
    "version": 2
   },
   "file_extension": ".py",
   "mimetype": "text/x-python",
   "name": "python",
   "nbconvert_exporter": "python",
   "pygments_lexer": "ipython2",
   "version": "2.7.13"
  }
 },
 "nbformat": 4,
 "nbformat_minor": 2
}
