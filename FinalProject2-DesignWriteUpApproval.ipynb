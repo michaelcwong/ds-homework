{
 "cells": [
  {
   "cell_type": "markdown",
   "metadata": {},
   "source": [
    "### Project Problem and Hypothesis\n",
    "The city of New York currently spends roughly $13B per year.  The Top 15 Agencies are generally the same, but the leader in spend is usually not. Develop a model that will predict which agency will spend the most each quarter in FY18 based on FY17 data, predict how much they will spend, and which commodity they are purchasing.  Spend is seasonal and often concentrated in the first and last quarter of the fiscal year.  Many factors, such as weather, affects which agencies spend more each quarter.  For example, the Department of Sanitation (DSNY) will spend more on salt when there is precipitation.  Generally, salt is also the category with the highest spend each year.  \n",
    "\n",
    "Using a logistic regression and RandomForest model, list the agencies with the highest probability of being the top spender each Quarter and the amount they will spend.  What commodity are they spending it on?\n",
    "\n",
    "The impact this model will have on predictive spend analytics for the City is in accurately allocating Other Than Personal Spend (OTPS) budgets by Agency and department each quarter. It will also direct procurement efforts for the City by providing commodities to focus on procuring for FY18.\n"
   ]
  },
  {
   "cell_type": "markdown",
   "metadata": {},
   "source": [
    "### Data Sets\n",
    "The data set contains 388,523 rows and 36 columns of spend data from FY17 for the Top 15 Agencies in spend.  Line item spend is categorized by Agency PR Department, Commodity Level 1, Commodity Level 2, Commodity Level 3 and Amount spent in USD.  "
   ]
  },
  {
   "cell_type": "markdown",
   "metadata": {},
   "source": [
    "### Domain knowledge\n",
    "Currently, I am part of the Strategic Sourcing team that uses Category Management to analyze City spend and look for ways to consolidate spend.  By using the purchasing power of all the Mayoral agencies combined, they City is able to purchase a group of goods as one Enterprise instead of 100 different entities, thereby securing a better value on the product and more discounts on pricing due to the volume procured.  This helps to inform the project by understanding the political landscape of City agencies, Category Management in having knowledge of which goods and services are procured my each agency, and current responsibilities for reporting on City spend. The Performance Management and Analytics group currently reviews the spend of each agency, however, these do not include future budget projections.  \n",
    "\n",
    "The Fiscal and Business Management (FBM) team currently sets the budget of each department based on last year's budget.  This generally does not account for changes in spending structures and often results in multiple modifications throughout the year to appropriately allocate funding."
   ]
  },
  {
   "cell_type": "markdown",
   "metadata": {},
   "source": [
    "### Project Concerns\n",
    "My main concern in the project is in applying the correct model.  I am nervous and not quite sure I understand how to build a model from scratch. It seems like the Logistic Regression model would be best in determining the amount in spend, but Random Forest would be better for predicting the highest agency in spend.  Secondly, the dataset is larger than what we have worked on in clase, so I am also concerned that there is too much information.  However, I don't want to limit the dataframe because I would like to duplicate the model on a macro level using Citywide spend data, on a micro level using Agency spend to make more customized predictions, and then run it again on a commodity level to obtain more tailored predictions to goods and services.  I want to train the data of each quarter of FY17 to then run a model to predict the outcomes of FY18.\n",
    "\n",
    "One of the things that changed from my ligtning talk to this project is that I could not find NYC Weather data on precipitation to have a confounding factor to run against the current data.  So, I am using the fields on Commodities instead to look at spend from a Strategic Sourcing perspective. The observations are also specific to only 15 agencies, so is not representative of all spend by the City or all commodities bought. \n",
    "\n",
    "Some of the risks in the project in not making the correct predictions will be the amount of additional time spent to modify the current budget allocations for FY18.  A baseline can be established by using the count of modifications requested in FY17 and comparing that to the number of modifications made in FY18.  Each request can be equated to 2 hours of staff time for 1 data analyst and 1 budget analyst, totalling $85.00 per request. It is possible that the Award Doc Identification Descriptions are incorrect since that column of data is manually entered.  "
   ]
  },
  {
   "cell_type": "markdown",
   "metadata": {},
   "source": [
    "### Outcomes\n",
    "I expect the outcome to result in correctly predicting the highest spending agency each quarter, to predict the amount of spend within a threshold of $3M dollars, and also list the commodity with the most spend among the Top 15 Agencies. \n",
    "The target audience would expect the ouput to look like a table listing the Top 15 Agencies in spend for FY18, the amount we expect them to spend, and also list the commodities they will buy.  The model does not have to be very complicated.  I expect to gain the most from the Amount in USD feature.  It will determine the Top Agency in Spend in addition to the Commodity.  If the project is a bust, then I will retry it using a simpler model with only 4 features and only try to predict the Top Agency in spend."
   ]
  }
 ],
 "metadata": {
  "kernelspec": {
   "display_name": "Python 2",
   "language": "python",
   "name": "python2"
  },
  "language_info": {
   "codemirror_mode": {
    "name": "ipython",
    "version": 2
   },
   "file_extension": ".py",
   "mimetype": "text/x-python",
   "name": "python",
   "nbconvert_exporter": "python",
   "pygments_lexer": "ipython2",
   "version": "2.7.13"
  }
 },
 "nbformat": 4,
 "nbformat_minor": 2
}
